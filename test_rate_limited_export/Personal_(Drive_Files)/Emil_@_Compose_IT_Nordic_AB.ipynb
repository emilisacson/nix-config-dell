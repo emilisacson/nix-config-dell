<!-- filepath: test_rate_limited_export/Personal_(Drive_Files)/Emil_@_Compose_IT_Nordic_AB.ipynb -->
<VSCode.Cell language="markdown">
# Emil @ Compose IT Nordic AB

**Site:** Personal (Drive Files)  
**Exported:** 2025-06-13 16:13:27  
**Source:** OneNote via Microsoft Graph API

---
</VSCode.Cell>
<VSCode.Cell language="markdown">
## Individual OneNote Files

**Pages in this section:** 10
</VSCode.Cell>
<VSCode.Cell language="markdown">
### Metadata Onenote.one

# Metadata Onenote.one - OneNote Content

**Source:** Arvid @ Compose IT Nordic AB > 3
**Pages found:** 2

## Sample Page: Login

Mail

VPN

User: CompIT_Carlander



#1 Download CheckPoint client at: |   
| [CheckPoint VPN Client](https://eur03.safelinks.protection.outlook.com/?url=https%3A%2F%2Fwww.checkpoint.com%2Fproducts%2Fremote-access-vpn%2F&data=05%7C02%7Carvid.carlander%40compose.se%7C11a24d753242432a6ab408dc97848118%7Cd8fe6df3c89e4fa6a2f8cfcc31dffb1c%7C0%7C0%7C638551842573461719%7CUnknown%7CTWFpbGZsb3d8eyJWIjoiMC4wLjAwMDAiLCJQIjoiV2luMzIiLCJBTiI6Ik1haWwiLCJXVCI6Mn0%3D%7C0%7C%7C%7C&sdata=2QkAVH3IZxxYBHT97xwp18P5M4g0WqroB5QYopEdLAo%3D&reserved=0)  
---|---|---  
#2 Install client: | Check Point Mobile |   
  
#3 Configure site: | remote.tre.se |   
  
#4 Enter Username and Password |   
|   
  
#5 Enter OTP which is sent to your mobile phone |   
|   
  
#6 Connect to any of the hosts/networks using any of the services specified in the "Access" section |   
|   

AD

User: carlander001

sms

Hej

Vpn: 546112

Ad: z2%Ynvrdqeabwtfu

Mvh

Christopher 3

**Web Access:** [Open in OneNote](https://composeit-my.sharepoint.com/personal/arvid_carlander_compose_se/_layouts/15/Doc.aspx?sourcedoc=%7B8376C997-295C-461C-9D3D-774CB4322BBF%7D&file=Metadata%20Onenote.one&action=edit&mobileredirect=true&wdorigin=Sharepoint&DefaultItemOpen=1)
</VSCode.Cell>
<VSCode.Cell language="markdown">
### Referens.one

# Referens.one - OneNote Content

**Source:** Arvid @ Compose IT Nordic AB > 3
**Pages found:** 2

## Sample Page: Login

Mail

VPN

User: CompIT_Carlander



#1 Download CheckPoint client at: |   
| [CheckPoint VPN Client](https://eur03.safelinks.protection.outlook.com/?url=https%3A%2F%2Fwww.checkpoint.com%2Fproducts%2Fremote-access-vpn%2F&data=05%7C02%7Carvid.carlander%40compose.se%7C11a24d753242432a6ab408dc97848118%7Cd8fe6df3c89e4fa6a2f8cfcc31dffb1c%7C0%7C0%7C638551842573461719%7CUnknown%7CTWFpbGZsb3d8eyJWIjoiMC4wLjAwMDAiLCJQIjoiV2luMzIiLCJBTiI6Ik1haWwiLCJXVCI6Mn0%3D%7C0%7C%7C%7C&sdata=2QkAVH3IZxxYBHT97xwp18P5M4g0WqroB5QYopEdLAo%3D&reserved=0)  
---|---|---  
#2 Install client: | Check Point Mobile |   
  
#3 Configure site: | remote.tre.se |   
  
#4 Enter Username and Password |   
|   
  
#5 Enter OTP which is sent to your mobile phone |   
|   
  
#6 Connect to any of the hosts/networks using any of the services specified in the "Access" section |   
|   

AD

User: carlander001

sms

Hej

Vpn: 546112

Ad: z2%Ynvrdqeabwtfu

Mvh

Christopher 3

**Web Access:** [Open in OneNote](https://composeit-my.sharepoint.com/personal/arvid_carlander_compose_se/_layouts/15/Doc.aspx?action=edit&mobileredirect=true&wdorigin=Sharepoint&DefaultItemOpen=1&sourcedoc={597496bf-841c-49db-bf12-4f0593330efb}&wd=target(/Referens.one/))
</VSCode.Cell>
<VSCode.Cell language="markdown">
### BaneNor.one

# BaneNor.one - OneNote Content

**Source:** Arvid @ Compose IT Nordic AB > 3
**Pages found:** 2

## Sample Page: Login

Mail

VPN

User: CompIT_Carlander



#1 Download CheckPoint client at: |   
| [CheckPoint VPN Client](https://eur03.safelinks.protection.outlook.com/?url=https%3A%2F%2Fwww.checkpoint.com%2Fproducts%2Fremote-access-vpn%2F&data=05%7C02%7Carvid.carlander%40compose.se%7C11a24d753242432a6ab408dc97848118%7Cd8fe6df3c89e4fa6a2f8cfcc31dffb1c%7C0%7C0%7C638551842573461719%7CUnknown%7CTWFpbGZsb3d8eyJWIjoiMC4wLjAwMDAiLCJQIjoiV2luMzIiLCJBTiI6Ik1haWwiLCJXVCI6Mn0%3D%7C0%7C%7C%7C&sdata=2QkAVH3IZxxYBHT97xwp18P5M4g0WqroB5QYopEdLAo%3D&reserved=0)  
---|---|---  
#2 Install client: | Check Point Mobile |   
  
#3 Configure site: | remote.tre.se |   
  
#4 Enter Username and Password |   
|   
  
#5 Enter OTP which is sent to your mobile phone |   
|   
  
#6 Connect to any of the hosts/networks using any of the services specified in the "Access" section |   
|   

AD

User: carlander001

sms

Hej

Vpn: 546112

Ad: z2%Ynvrdqeabwtfu

Mvh

Christopher 3

**Web Access:** [Open in OneNote](https://composeit-my.sharepoint.com/personal/arvid_carlander_compose_se/_layouts/15/Doc.aspx?sourcedoc=%7BF0A783C7-E232-43D6-A00B-8357EF02DC13%7D&file=BaneNor.one&action=edit&mobileredirect=true&wdorigin=Sharepoint&DefaultItemOpen=1)
</VSCode.Cell>
<VSCode.Cell language="markdown">
### node-red.one

# node-red.one - OneNote Content

**Source:** Arvid @ Compose IT Nordic AB > 3
**Pages found:** 2

## Sample Page: Login

Mail

VPN

User: CompIT_Carlander



#1 Download CheckPoint client at: |   
| [CheckPoint VPN Client](https://eur03.safelinks.protection.outlook.com/?url=https%3A%2F%2Fwww.checkpoint.com%2Fproducts%2Fremote-access-vpn%2F&data=05%7C02%7Carvid.carlander%40compose.se%7C11a24d753242432a6ab408dc97848118%7Cd8fe6df3c89e4fa6a2f8cfcc31dffb1c%7C0%7C0%7C638551842573461719%7CUnknown%7CTWFpbGZsb3d8eyJWIjoiMC4wLjAwMDAiLCJQIjoiV2luMzIiLCJBTiI6Ik1haWwiLCJXVCI6Mn0%3D%7C0%7C%7C%7C&sdata=2QkAVH3IZxxYBHT97xwp18P5M4g0WqroB5QYopEdLAo%3D&reserved=0)  
---|---|---  
#2 Install client: | Check Point Mobile |   
  
#3 Configure site: | remote.tre.se |   
  
#4 Enter Username and Password |   
|   
  
#5 Enter OTP which is sent to your mobile phone |   
|   
  
#6 Connect to any of the hosts/networks using any of the services specified in the "Access" section |   
|   

AD

User: carlander001

sms

Hej

Vpn: 546112

Ad: z2%Ynvrdqeabwtfu

Mvh

Christopher 3

**Web Access:** [Open in OneNote](https://composeit-my.sharepoint.com/personal/arvid_carlander_compose_se/_layouts/15/Doc.aspx?sourcedoc=%7B71AE5970-8A82-47C2-B45C-ABECD6EFDF4C%7D&file=node-red.one&action=edit&mobileredirect=true&wdorigin=Sharepoint&DefaultItemOpen=1)
</VSCode.Cell>
<VSCode.Cell language="markdown">
### Ellevio test env.one

# Ellevio test env.one - OneNote Content

**Source:** Arvid @ Compose IT Nordic AB > 3
**Pages found:** 2

## Sample Page: Login

Mail

VPN

User: CompIT_Carlander



#1 Download CheckPoint client at: |   
| [CheckPoint VPN Client](https://eur03.safelinks.protection.outlook.com/?url=https%3A%2F%2Fwww.checkpoint.com%2Fproducts%2Fremote-access-vpn%2F&data=05%7C02%7Carvid.carlander%40compose.se%7C11a24d753242432a6ab408dc97848118%7Cd8fe6df3c89e4fa6a2f8cfcc31dffb1c%7C0%7C0%7C638551842573461719%7CUnknown%7CTWFpbGZsb3d8eyJWIjoiMC4wLjAwMDAiLCJQIjoiV2luMzIiLCJBTiI6Ik1haWwiLCJXVCI6Mn0%3D%7C0%7C%7C%7C&sdata=2QkAVH3IZxxYBHT97xwp18P5M4g0WqroB5QYopEdLAo%3D&reserved=0)  
---|---|---  
#2 Install client: | Check Point Mobile |   
  
#3 Configure site: | remote.tre.se |   
  
#4 Enter Username and Password |   
|   
  
#5 Enter OTP which is sent to your mobile phone |   
|   
  
#6 Connect to any of the hosts/networks using any of the services specified in the "Access" section |   
|   

AD

User: carlander001

sms

Hej

Vpn: 546112

Ad: z2%Ynvrdqeabwtfu

Mvh

Christopher 3

**Web Access:** [Open in OneNote](https://composeit-my.sharepoint.com/personal/arvid_carlander_compose_se/_layouts/15/Doc.aspx?action=edit&mobileredirect=true&wdorigin=Sharepoint&DefaultItemOpen=1&sourcedoc={597496bf-841c-49db-bf12-4f0593330efb}&wd=target(/Ellevio test env.one/))
</VSCode.Cell>
<VSCode.Cell language="markdown">
### Resor.one

# Resor.one - OneNote Content

**Source:** Arvid @ Compose IT Nordic AB > 3
**Pages found:** 2

## Sample Page: Login

Mail

VPN

User: CompIT_Carlander



#1 Download CheckPoint client at: |   
| [CheckPoint VPN Client](https://eur03.safelinks.protection.outlook.com/?url=https%3A%2F%2Fwww.checkpoint.com%2Fproducts%2Fremote-access-vpn%2F&data=05%7C02%7Carvid.carlander%40compose.se%7C11a24d753242432a6ab408dc97848118%7Cd8fe6df3c89e4fa6a2f8cfcc31dffb1c%7C0%7C0%7C638551842573461719%7CUnknown%7CTWFpbGZsb3d8eyJWIjoiMC4wLjAwMDAiLCJQIjoiV2luMzIiLCJBTiI6Ik1haWwiLCJXVCI6Mn0%3D%7C0%7C%7C%7C&sdata=2QkAVH3IZxxYBHT97xwp18P5M4g0WqroB5QYopEdLAo%3D&reserved=0)  
---|---|---  
#2 Install client: | Check Point Mobile |   
  
#3 Configure site: | remote.tre.se |   
  
#4 Enter Username and Password |   
|   
  
#5 Enter OTP which is sent to your mobile phone |   
|   
  
#6 Connect to any of the hosts/networks using any of the services specified in the "Access" section |   
|   

AD

User: carlander001

sms

Hej

Vpn: 546112

Ad: z2%Ynvrdqeabwtfu

Mvh

Christopher 3

**Web Access:** [Open in OneNote](https://composeit-my.sharepoint.com/personal/arvid_carlander_compose_se/_layouts/15/Doc.aspx?sourcedoc=%7B56EF6A59-4146-4D2B-BD3B-F1E20B421A89%7D&file=Resor.one&action=edit&mobileredirect=true&wdorigin=Sharepoint&DefaultItemOpen=1)
</VSCode.Cell>
<VSCode.Cell language="markdown">
### Sandvik.one

# Sandvik.one - OneNote Content

**Source:** Arvid @ Compose IT Nordic AB > 3
**Pages found:** 2

## Sample Page: Login

Mail

VPN

User: CompIT_Carlander



#1 Download CheckPoint client at: |   
| [CheckPoint VPN Client](https://eur03.safelinks.protection.outlook.com/?url=https%3A%2F%2Fwww.checkpoint.com%2Fproducts%2Fremote-access-vpn%2F&data=05%7C02%7Carvid.carlander%40compose.se%7C11a24d753242432a6ab408dc97848118%7Cd8fe6df3c89e4fa6a2f8cfcc31dffb1c%7C0%7C0%7C638551842573461719%7CUnknown%7CTWFpbGZsb3d8eyJWIjoiMC4wLjAwMDAiLCJQIjoiV2luMzIiLCJBTiI6Ik1haWwiLCJXVCI6Mn0%3D%7C0%7C%7C%7C&sdata=2QkAVH3IZxxYBHT97xwp18P5M4g0WqroB5QYopEdLAo%3D&reserved=0)  
---|---|---  
#2 Install client: | Check Point Mobile |   
  
#3 Configure site: | remote.tre.se |   
  
#4 Enter Username and Password |   
|   
  
#5 Enter OTP which is sent to your mobile phone |   
|   
  
#6 Connect to any of the hosts/networks using any of the services specified in the "Access" section |   
|   

AD

User: carlander001

sms

Hej

Vpn: 546112

Ad: z2%Ynvrdqeabwtfu

Mvh

Christopher 3

**Web Access:** [Open in OneNote](https://composeit-my.sharepoint.com/personal/arvid_carlander_compose_se/_layouts/15/Doc.aspx?sourcedoc=%7B31704A28-45A2-4B39-9DF5-745988EA214C%7D&file=Sandvik.one&action=edit&mobileredirect=true&wdorigin=Sharepoint&DefaultItemOpen=1)
</VSCode.Cell>
<VSCode.Cell language="markdown">
### Azure project.one

# Azure project.one - OneNote Content

**Source:** Arvid @ Compose IT Nordic AB > 3
**Pages found:** 2

## Sample Page: Login

Mail

VPN

User: CompIT_Carlander



#1 Download CheckPoint client at: |   
| [CheckPoint VPN Client](https://eur03.safelinks.protection.outlook.com/?url=https%3A%2F%2Fwww.checkpoint.com%2Fproducts%2Fremote-access-vpn%2F&data=05%7C02%7Carvid.carlander%40compose.se%7C11a24d753242432a6ab408dc97848118%7Cd8fe6df3c89e4fa6a2f8cfcc31dffb1c%7C0%7C0%7C638551842573461719%7CUnknown%7CTWFpbGZsb3d8eyJWIjoiMC4wLjAwMDAiLCJQIjoiV2luMzIiLCJBTiI6Ik1haWwiLCJXVCI6Mn0%3D%7C0%7C%7C%7C&sdata=2QkAVH3IZxxYBHT97xwp18P5M4g0WqroB5QYopEdLAo%3D&reserved=0)  
---|---|---  
#2 Install client: | Check Point Mobile |   
  
#3 Configure site: | remote.tre.se |   
  
#4 Enter Username and Password |   
|   
  
#5 Enter OTP which is sent to your mobile phone |   
|   
  
#6 Connect to any of the hosts/networks using any of the services specified in the "Access" section |   
|   

AD

User: carlander001

sms

Hej

Vpn: 546112

Ad: z2%Ynvrdqeabwtfu

Mvh

Christopher 3

**Web Access:** [Open in OneNote](https://composeit-my.sharepoint.com/personal/arvid_carlander_compose_se/_layouts/15/Doc.aspx?sourcedoc=%7BC81B9ABB-2557-4942-8B11-0A316C3A01D6%7D&file=Azure%20project.one&action=edit&mobileredirect=true&wdorigin=Sharepoint&DefaultItemOpen=1)
</VSCode.Cell>
<VSCode.Cell language="markdown">
### Region Blekinge.one

# Region Blekinge.one - OneNote Content

**Source:** Arvid @ Compose IT Nordic AB > 3
**Pages found:** 2

## Sample Page: Login

Mail

VPN

User: CompIT_Carlander



#1 Download CheckPoint client at: |   
| [CheckPoint VPN Client](https://eur03.safelinks.protection.outlook.com/?url=https%3A%2F%2Fwww.checkpoint.com%2Fproducts%2Fremote-access-vpn%2F&data=05%7C02%7Carvid.carlander%40compose.se%7C11a24d753242432a6ab408dc97848118%7Cd8fe6df3c89e4fa6a2f8cfcc31dffb1c%7C0%7C0%7C638551842573461719%7CUnknown%7CTWFpbGZsb3d8eyJWIjoiMC4wLjAwMDAiLCJQIjoiV2luMzIiLCJBTiI6Ik1haWwiLCJXVCI6Mn0%3D%7C0%7C%7C%7C&sdata=2QkAVH3IZxxYBHT97xwp18P5M4g0WqroB5QYopEdLAo%3D&reserved=0)  
---|---|---  
#2 Install client: | Check Point Mobile |   
  
#3 Configure site: | remote.tre.se |   
  
#4 Enter Username and Password |   
|   
  
#5 Enter OTP which is sent to your mobile phone |   
|   
  
#6 Connect to any of the hosts/networks using any of the services specified in the "Access" section |   
|   

AD

User: carlander001

sms

Hej

Vpn: 546112

Ad: z2%Ynvrdqeabwtfu

Mvh

Christopher 3

**Web Access:** [Open in OneNote](https://composeit-my.sharepoint.com/personal/arvid_carlander_compose_se/_layouts/15/Doc.aspx?sourcedoc=%7B4D767EFF-F430-424E-AD54-C4DE112FF45A%7D&file=Region%20Blekinge.one&action=edit&mobileredirect=true&wdorigin=Sharepoint&DefaultItemOpen=1)
</VSCode.Cell>
<VSCode.Cell language="markdown">
### Fun.one

# Fun.one - OneNote Content

**Source:** Arvid @ Compose IT Nordic AB > 3
**Pages found:** 2

## Sample Page: Login

Mail

VPN

User: CompIT_Carlander



#1 Download CheckPoint client at: |   
| [CheckPoint VPN Client](https://eur03.safelinks.protection.outlook.com/?url=https%3A%2F%2Fwww.checkpoint.com%2Fproducts%2Fremote-access-vpn%2F&data=05%7C02%7Carvid.carlander%40compose.se%7C11a24d753242432a6ab408dc97848118%7Cd8fe6df3c89e4fa6a2f8cfcc31dffb1c%7C0%7C0%7C638551842573461719%7CUnknown%7CTWFpbGZsb3d8eyJWIjoiMC4wLjAwMDAiLCJQIjoiV2luMzIiLCJBTiI6Ik1haWwiLCJXVCI6Mn0%3D%7C0%7C%7C%7C&sdata=2QkAVH3IZxxYBHT97xwp18P5M4g0WqroB5QYopEdLAo%3D&reserved=0)  
---|---|---  
#2 Install client: | Check Point Mobile |   
  
#3 Configure site: | remote.tre.se |   
  
#4 Enter Username and Password |   
|   
  
#5 Enter OTP which is sent to your mobile phone |   
|   
  
#6 Connect to any of the hosts/networks using any of the services specified in the "Access" section |   
|   

AD

User: carlander001

sms

Hej

Vpn: 546112

Ad: z2%Ynvrdqeabwtfu

Mvh

Christopher 3

**Web Access:** [Open in OneNote](https://composeit-my.sharepoint.com/personal/arvid_carlander_compose_se/_layouts/15/Doc.aspx?sourcedoc=%7B6E6D6B7F-0223-44B3-BE95-DD718F39C894%7D&file=Fun.one&action=edit&mobileredirect=true&wdorigin=Sharepoint&DefaultItemOpen=1)
</VSCode.Cell>
